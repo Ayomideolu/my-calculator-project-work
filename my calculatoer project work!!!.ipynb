{
 "cells": [
  {
   "cell_type": "markdown",
   "id": "8faa7385",
   "metadata": {},
   "source": [
    "#                      A Calculator App to perform Arithmetic Operations\n",
    "    You have been hired by the 10Analytics team to build a fully functional calculator\n",
    "    application using Python. The calculator should take any number of input by the user from\n",
    "    the console/command line and perform the following operations:\n",
    "    1. Take multiple integer values entered by the user, add them and print out the result.\n",
    "    2. Take multiple integer values entered by the user, do a subtraction on them in the\n",
    "    order they are entered and print out the result.\n",
    "    3. Take multiple integer values entered by the user, multiply them and print out the\n",
    "         result.\n",
    "    4. Take only two integer values entered by the user divide the first number by the\n",
    "    second and print out the result. Account for infinite value error (division by zero).\n",
    "    5. Take multiple integer values entered by the user and compute their average."
   ]
  },
  {
   "cell_type": "code",
   "execution_count": null,
   "id": "21fd6219",
   "metadata": {
    "scrolled": true
   },
   "outputs": [
    {
     "name": "stdout",
     "output_type": "stream",
     "text": [
      "Welcome to the Calculator App!\n",
      "Available operations:\n",
      "1. Addition\n",
      "2. Subtraction\n",
      "3. Multiplication\n",
      "4. Division\n",
      "5. Average\n",
      "6. Exit\n",
      "Enter the operation number (1/2/3/4/5/6): 4\n",
      "Enter the first number: 45\n",
      "Enter the second number: 9\n",
      "Result: 5.0\n",
      "Available operations:\n",
      "1. Addition\n",
      "2. Subtraction\n",
      "3. Multiplication\n",
      "4. Division\n",
      "5. Average\n",
      "6. Exit\n",
      "Enter the operation number (1/2/3/4/5/6): 1\n",
      "Enter numbers separated by spaces: 2 3 4 55 6 77 88 99 44 66 4 12 89 89 23 12\n",
      "Result: 673\n",
      "Available operations:\n",
      "1. Addition\n",
      "2. Subtraction\n",
      "3. Multiplication\n",
      "4. Division\n",
      "5. Average\n",
      "6. Exit\n",
      "Enter the operation number (1/2/3/4/5/6): 7\n",
      "Invalid operation\n",
      "Available operations:\n",
      "1. Addition\n",
      "2. Subtraction\n",
      "3. Multiplication\n",
      "4. Division\n",
      "5. Average\n",
      "6. Exit\n"
     ]
    }
   ],
   "source": [
    "print(\"Welcome to the Calculator App!\")\n",
    "\n",
    "while True:\n",
    "    print(\"Available operations:\")\n",
    "    print(\"1. Addition\")\n",
    "    print(\"2. Subtraction\")\n",
    "    print(\"3. Multiplication\")\n",
    "    print(\"4. Division\")\n",
    "    print(\"5. Average\")\n",
    "    print(\"6. Exit\")\n",
    "\n",
    "    operation = input(\"Enter the operation number (1/2/3/4/5/6): \")\n",
    "\n",
    "    if operation == \"6\":\n",
    "        print(\"Exiting Calculator App. Goodbye!\")\n",
    "        break\n",
    "\n",
    "    if operation in [\"1\", \"2\", \"3\", \"5\"]:\n",
    "        numbers = input(\"Enter numbers separated by spaces: \").split()\n",
    "        numbers = [int(num) for num in numbers]\n",
    "\n",
    "        if operation == \"1\":\n",
    "            result = 0\n",
    "            for num in numbers:\n",
    "                result += num\n",
    "            print(f\"Result: {result}\")\n",
    "        elif operation == \"2\":\n",
    "            result = numbers[0]\n",
    "            for i in range(1, len(numbers)):\n",
    "                result -= numbers[i]\n",
    "            print(f\"Result: {result}\")\n",
    "        elif operation == \"3\":\n",
    "            result = 1\n",
    "            for num in numbers:\n",
    "                result *= num\n",
    "            print(f\"Result: {result}\")\n",
    "        elif operation == \"5\":\n",
    "            if not numbers:\n",
    "                print(\"No numbers provided\")\n",
    "            else:\n",
    "                total = 0\n",
    "                count = 0\n",
    "                for num in numbers:\n",
    "                    total += num\n",
    "                    count += 1\n",
    "                print(f\"Average: {total / count}\")\n",
    "\n",
    "    elif operation == \"4\":\n",
    "        num1 = int(input(\"Enter the first number: \"))\n",
    "        num2 = int(input(\"Enter the second number: \"))\n",
    "        if num2 == 0:\n",
    "            print(\"Division by zero is not allowed\")\n",
    "        else:\n",
    "            result = num1 / num2\n",
    "            print(f\"Result: {result}\")\n",
    "    else:\n",
    "        print(\"Invalid operation\")\n"
   ]
  },
  {
   "cell_type": "code",
   "execution_count": null,
   "id": "0ea5649f",
   "metadata": {
    "scrolled": false
   },
   "outputs": [],
   "source": [
    "print(\"Welcome to the Calculator App!\") \n",
    "while True:\n",
    "    print(\"1. Division\")\n",
    "    print('2. Exit ')\n",
    "    \n",
    "    operation = input(\"Enter the operation number (1/2): \")\n",
    "\n",
    "    \n",
    "    if operation == \"1\":\n",
    "        num1 = int(input(\"Enter the first number: \"))\n",
    "        num2 = int(input(\"Enter the second number: \"))\n",
    "        if num2 == 0:\n",
    "            print(\"Division by zero is not allowed\")\n",
    "        else:\n",
    "            result = num1 / num2\n",
    "            print(f\"Result: {result}\")\n",
    "    else:\n",
    "        print(\"Invalid operation\")\n",
    "print(operation)"
   ]
  },
  {
   "cell_type": "code",
   "execution_count": null,
   "id": "60cf56f5",
   "metadata": {
    "scrolled": false
   },
   "outputs": [
    {
     "name": "stdout",
     "output_type": "stream",
     "text": [
      "Welcome to the Calculator App!\n",
      "Available operations:\n",
      "1. Addition\n",
      "2. Exit\n"
     ]
    }
   ],
   "source": [
    "print(\"Welcome to the Calculator App!\")\n",
    "\n",
    "while True:\n",
    "    print(\"Available operations:\")\n",
    "    print(\"1. Addition\")\n",
    "    print(\"2. Exit\")\n",
    "    operation = input(\"Enter the operation number (1/2): \")\n",
    "    \n",
    "    if operation in [\"1\", \"2\"]:\n",
    "        numbers = input(\"Enter numbers separated by spaces: \").split()\n",
    "        numbers = [int(num) for num in numbers]\n",
    "        \n",
    "        \n",
    "    if operation == \"1\":\n",
    "        result = 0\n",
    "        for num in numbers:\n",
    "            result += num\n",
    "        print(f\"Result: {result}\")\n",
    "print(operation)\n",
    "     \n",
    "        \n",
    "\n",
    "        "
   ]
  },
  {
   "cell_type": "code",
   "execution_count": null,
   "id": "ebb1e883",
   "metadata": {
    "scrolled": true
   },
   "outputs": [
    {
     "name": "stdout",
     "output_type": "stream",
     "text": [
      "Welcome to the Calculator App!\n",
      "Available operations:\n",
      "1.Subtraction:\n",
      "2.Exit!\n",
      "Enter the operation number (1/2):1\n",
      "Enter numbers separated by spaces:  56 12 13\n",
      "Result: 31\n",
      "Available operations:\n",
      "1.Subtraction:\n",
      "2.Exit!\n"
     ]
    }
   ],
   "source": [
    "print(\"Welcome to the Calculator App!\")\n",
    "\n",
    "while True:\n",
    "    print(\"Available operations:\")\n",
    "    print('1.Subtraction:')\n",
    "    print('2.Exit!')\n",
    "    \n",
    "    operation=input('Enter the operation number (1/2):')\n",
    "    \n",
    "    if operation == \"2\":\n",
    "        print(\"Exiting Calculator App. Goodbye!\")\n",
    "        break\n",
    "        \n",
    "    if operation in [\"1\", \"2\"]:\n",
    "        numbers = input(\"Enter numbers separated by spaces: \").split()\n",
    "        numbers = [int(num) for num in numbers]\n",
    "    if operation == \"1\":\n",
    "        result = numbers[0]\n",
    "        for i in range(1, len(numbers)):\n",
    "            result -= numbers[i]\n",
    "        print(f\"Result: {result}\")\n",
    "print(operation)"
   ]
  },
  {
   "cell_type": "code",
   "execution_count": null,
   "id": "b1bc23f2",
   "metadata": {
    "scrolled": true
   },
   "outputs": [
    {
     "name": "stdout",
     "output_type": "stream",
     "text": [
      "Welcome to the Calculator App!\n",
      "Available operations:\n",
      "1. Multiplication\n",
      "2.Exit!\n",
      "Enter the operation number (1/2):23\n",
      "Available operations:\n",
      "1. Multiplication\n",
      "2.Exit!\n",
      "Enter the operation number (1/2):1\n",
      "Enter numbers separated by spaces: 45 7\n",
      "Result: 315\n",
      "Available operations:\n",
      "1. Multiplication\n",
      "2.Exit!\n"
     ]
    }
   ],
   "source": [
    "print(\"Welcome to the Calculator App!\")\n",
    "\n",
    "while True:\n",
    "    print(\"Available operations:\")\n",
    "    print(\"1. Multiplication\")\n",
    "    print('2.Exit!')\n",
    "    \n",
    "    operation=input('Enter the operation number (1/2):')\n",
    "    if operation in [\"1\", \"2\"]:\n",
    "        numbers = input(\"Enter numbers separated by spaces: \").split()\n",
    "        numbers = [int(num) for num in numbers]   \n",
    "    if operation == \"1\":\n",
    "        result = 1\n",
    "        for num in numbers:\n",
    "                                  \n",
    "            result *= num\n",
    "        print(f\"Result: {result}\")\n",
    "print(operation)\n"
   ]
  },
  {
   "cell_type": "code",
   "execution_count": null,
   "id": "1d419523",
   "metadata": {},
   "outputs": [],
   "source": []
  }
 ],
 "metadata": {
  "kernelspec": {
   "display_name": "Python 3 (ipykernel)",
   "language": "python",
   "name": "python3"
  },
  "language_info": {
   "codemirror_mode": {
    "name": "ipython",
    "version": 3
   },
   "file_extension": ".py",
   "mimetype": "text/x-python",
   "name": "python",
   "nbconvert_exporter": "python",
   "pygments_lexer": "ipython3",
   "version": "3.11.3"
  }
 },
 "nbformat": 4,
 "nbformat_minor": 5
}
